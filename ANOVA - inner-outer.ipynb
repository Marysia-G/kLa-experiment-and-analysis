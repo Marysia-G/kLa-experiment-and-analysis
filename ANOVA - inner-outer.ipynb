{
 "cells": [
  {
   "cell_type": "code",
   "execution_count": 40,
   "metadata": {},
   "outputs": [],
   "source": [
    "import pandas as pd\n",
    "\n",
    "data = pd.DataFrame({'growth': [19.606,\t19.208,\t19.218,\t18.82,\t18.712,\t18.6,\n",
    "19.862,\t19.364,\t19.214,\t19.042,\t18.894,\t18.68],\n",
    "                     'well': [\"inner\",\t\"inner\",\t\"inner\",\t\"inner\",\t\"inner\",\t\"inner\",\n",
    "\"outer\",\t\"outer\",\t\"outer\",\t\"outer\",\t\"outer\",\t\"outer\"]})"
   ]
  },
  {
   "cell_type": "code",
   "execution_count": 41,
   "metadata": {},
   "outputs": [
    {
     "name": "stdout",
     "output_type": "stream",
     "text": [
      "Inner and outer wells are the same\n"
     ]
    }
   ],
   "source": [
    "import pandas as pd\n",
    "from scipy.stats import f_oneway\n",
    "\n",
    "# Assuming your data is stored in a DataFrame named df\n",
    "# Extract the relevant columns for ANOVA\n",
    "data_anova = data[['well', 'growth']]\n",
    "\n",
    "# Perform ANOVA\n",
    "anova_result = f_oneway(*[group['growth'] for name, group in data_anova.groupby('well')])\n",
    "\n",
    "if anova_result.pvalue < 0.05:\n",
    "    print(f'Means are different at {anova_result.pvalue} confidence')\n",
    "else:\n",
    "    print('Inner and outer wells are the same')\n"
   ]
  }
 ],
 "metadata": {
  "kernelspec": {
   "display_name": "Python 3",
   "language": "python",
   "name": "python3"
  },
  "language_info": {
   "codemirror_mode": {
    "name": "ipython",
    "version": 3
   },
   "file_extension": ".py",
   "mimetype": "text/x-python",
   "name": "python",
   "nbconvert_exporter": "python",
   "pygments_lexer": "ipython3",
   "version": "3.11.7"
  }
 },
 "nbformat": 4,
 "nbformat_minor": 2
}
